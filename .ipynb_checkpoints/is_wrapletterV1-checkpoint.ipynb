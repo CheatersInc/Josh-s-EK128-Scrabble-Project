{
 "metadata": {
  "name": "",
  "signature": "sha256:311ad3e102fada260d703eefbfdb692d04e5f52ff3b7e645a99117207e7e190d"
 },
 "nbformat": 3,
 "nbformat_minor": 0,
 "worksheets": [
  {
   "cells": [
    {
     "cell_type": "code",
     "collapsed": false,
     "input": [
      "#Currently assumes list associated tile such that:\n",
      "#tileID=[tileIDNo,letter or False if blank,etc......]\n",
      "\n",
      "def is_letter_present(tileID):\n",
      "    letters='qwertyuiopasdfghjklzxcvbnm'\n",
      "    if tileID[1]==False:\n",
      "        return(False)\n",
      "    else:\n",
      "        return(True)\n",
      "\n",
      "def is_wrapletterV1(tileID):\n",
      "    if is_letter_present(tileID)==False:\n",
      "        return(False)\n",
      "    else:\n",
      "        if "
     ],
     "language": "python",
     "metadata": {},
     "outputs": []
    }
   ],
   "metadata": {}
  }
 ]
}