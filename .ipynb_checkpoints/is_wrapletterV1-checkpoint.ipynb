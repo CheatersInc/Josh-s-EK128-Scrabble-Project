{
 "metadata": {
  "name": "",
  "signature": "sha256:a9e028e870e9d35b12f2dace126e4da6c93cb34b204aa5aad255896c0a045fff"
 },
 "nbformat": 3,
 "nbformat_minor": 0,
 "worksheets": [
  {
   "cells": [
    {
     "cell_type": "code",
     "collapsed": false,
     "input": [
      "#Currently assumes list associated tile such that:\n",
      "#tileID=[tileIDNo as 2D coords ,letter or False if blank,etc......]\n",
      "\n",
      "def is_letter_present(tileID):\n",
      "    letters='qwertyuiopasdfghjklzxcvbnm'\n",
      "    if tileID[1]==False:\n",
      "        return(False)\n",
      "    else:\n",
      "        return(True)\n",
      "\n",
      "def is_wrapletterV1(tileIDcoords):\n",
      "    if is_letter_present(tileID)==True:\n",
      "        return(False)\n",
      "    else:\n",
      "        if "
     ],
     "language": "python",
     "metadata": {},
     "outputs": []
    }
   ],
   "metadata": {}
  }
 ]
}