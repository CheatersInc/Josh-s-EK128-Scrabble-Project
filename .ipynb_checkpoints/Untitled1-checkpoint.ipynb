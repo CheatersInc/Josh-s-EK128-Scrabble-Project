{
 "metadata": {
  "name": "",
  "signature": "sha256:f7afd1497bbbc825e6bedf3daedae21047feb747f5ec9c79bf1d881b8cab183e"
 },
 "nbformat": 3,
 "nbformat_minor": 0,
 "worksheets": [
  {
   "cells": [
    {
     "cell_type": "code",
     "collapsed": false,
     "input": [
      "def is_wrapletter(tileID,)"
     ],
     "language": "python",
     "metadata": {},
     "outputs": []
    }
   ],
   "metadata": {}
  }
 ]
}