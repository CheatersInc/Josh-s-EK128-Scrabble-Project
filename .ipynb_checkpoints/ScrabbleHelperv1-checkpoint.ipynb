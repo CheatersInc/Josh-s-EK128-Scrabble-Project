{
 "metadata": {
  "name": "",
  "signature": "sha256:fd9f9cf33d257dec842df1ea625922ea53c584aab513f56cbac9707ddb2ccdd8"
 },
 "nbformat": 3,
 "nbformat_minor": 0,
 "worksheets": [
  {
   "cells": [
    {
     "cell_type": "code",
     "collapsed": false,
     "input": [
      "def test_bfl(wrapletter,word):\n",
      "    #determines number of characters left/up relative to wrapletter\n",
      "    d={}\n",
      "    basenum=0\n",
      "    for i in word:\n",
      "        if i in d.keys():\n",
      "            pass\n",
      "        else:\n",
      "            d[i]=basenum\n",
      "            basenum=basenum+1\n",
      "    return(d[wrapletter])\n",
      "\n",
      "def test_afl(wrapletter,word):\n",
      "    #determines number of characters right/down relative to wrapletter\n",
      "    d={}\n",
      "    basenum=0\n",
      "    for i in word:\n",
      "        if i in d.keys():\n",
      "            pass\n",
      "        else:\n",
      "            d[i]=basenum\n",
      "            basenum=basenum+1\n",
      "    return(basenum-d[wrapletter])\n",
      "\n",
      "def ScrabbleHelper(wrapletter,letters,beforewrapletter=10,afterwrapletter=10):\n",
      "    #OSPD is the official scrabble word list\n",
      "    #afterletter and beforeletter are int referencing spaces available \n",
      "    #on board relative to wrapletter (up/left for before, down/right for after)\n",
      "    sfile=open('ospd.txt')\n",
      "    lettersL=list(letters+wrapletter)\n",
      "    scrabdict={'a':1,'b':3,'c':3,'d':2,'e':1,'f':4,'g':2,'h':4,'i':1,'j':8,'k':5,'l':1,'m':3,'n':1,'o':1,'p':3,'q':10,'r':1,'s':1,'t':1,'u':1,'v':4,'w':4,'x':8,'y':4,'z':10}\n",
      "    hitlistd={}\n",
      "    wordlistd={}\n",
      "    #analyzes each word in OSPD\n",
      "    for line in sfile:\n",
      "        i=line.strip()\n",
      "        #checks word length, AFL/BFL, and presense of wrapletter\n",
      "        if wrapletter in i and len(i)<=len(lettersL)  and test_bfl(wrapletter,i)<=beforewrapletter and test_afl(wrapletter,i)<=afterwrapletter:\n",
      "            for char in i:\n",
      "                #checks all char in word are also in lettersL + number of chars <= number of chars \n",
      "                #in lettersL; if not, adds to hitlist for later termination\n",
      "                if char in lettersL and lettersL.count(char)>=list(i).count(char):\n",
      "                    pass\n",
      "                else:\n",
      "                    basenum=0\n",
      "                    for let in i:\n",
      "                        basenum=basenum+scrabdict[let]\n",
      "                    hitlistd[i]=basenum\n",
      "                    break\n",
      "                #creates score associated with word in dictionary\n",
      "                basenum=0\n",
      "                for let in i:\n",
      "                    basenum=basenum+scrabdict[let]\n",
      "                wordlistd[i]=basenum\n",
      "        else:\n",
      "            pass\n",
      "    #termination script\n",
      "    for word in hitlistd:\n",
      "        if word in wordlistd:\n",
      "            del wordlistd[word]\n",
      "    #determining best word; returns result in list with int score\n",
      "    bestplay={}\n",
      "    bestscore=0\n",
      "    for word in wordlistd.keys():\n",
      "        if wordlistd[word]==bestscore:\n",
      "            bestplay[word]=bestscore\n",
      "        elif wordlistd[word]<bestscore:\n",
      "            pass\n",
      "        else:\n",
      "            bestplay={}\n",
      "            bestscore=wordlistd[word]\n",
      "            bestplay[word]=bestscore\n",
      "    print('Given a wrapletter of \"',wrapletter,'\", the following words yield a highest score:')\n",
      "    return(bestplay)"
     ],
     "language": "python",
     "metadata": {},
     "outputs": [],
     "prompt_number": 2
    },
    {
     "cell_type": "code",
     "collapsed": false,
     "input": [
      "import time\n",
      "x=time.time()\n",
      "stuff='abcdefghijklmnopqrstuvwxyz'\n",
      "for i in stuff:\n",
      "    print(ScrabbleHelper(i,'kjxqzbbccmmppffhhvvwwyygggddddllllssssuuuunnnnrrrrttttooooaaaaiiiieeeennrrttooooaaaaaiiiiieeeeeeee'))\n",
      "y=time.time()\n",
      "print(y-x)"
     ],
     "language": "python",
     "metadata": {},
     "outputs": [
      {
       "output_type": "stream",
       "stream": "stdout",
       "text": [
        "Given a wrapletter of \" a \", the following words yield a highest score:\n",
        "{'highjack': 28, 'zwieback': 28, 'oxazepam': 28, 'caziques': 28, 'maximize': 28}\n",
        "Given a wrapletter of \""
       ]
      },
      {
       "output_type": "stream",
       "stream": "stdout",
       "text": [
        " b \", the following words yield a highest score:\n",
        "{'beziques': 28, 'zwieback': 28}\n",
        "Given a wrapletter of \""
       ]
      },
      {
       "output_type": "stream",
       "stream": "stdout",
       "text": [
        " c \", the following words yield a highest score:\n",
        "{'highjack': 28, 'zwieback': 28, 'caziques': 28}\n",
        "Given a wrapletter of \""
       ]
      },
      {
       "output_type": "stream",
       "stream": "stdout",
       "text": [
        " d \", the following words yield a highest score:\n",
        "{'squeezed': 27, 'jacquard': 27, 'quadplex': 27}\n",
        "Given a wrapletter of \""
       ]
      },
      {
       "output_type": "stream",
       "stream": "stdout",
       "text": [
        " e \", the following words yield a highest score:\n",
        "{'mezquite': 28, 'mezquits': 28, 'maximize': 28, 'caziques': 28, 'beziques': 28, 'zwieback': 28, 'oxazepam': 28}\n",
        "Given a wrapletter of \""
       ]
      },
      {
       "output_type": "stream",
       "stream": "stdout",
       "text": [
        " f \", the following words yield a highest score:\n",
        "{'jackfish': 27}\n",
        "Given a wrapletter of \""
       ]
      },
      {
       "output_type": "stream",
       "stream": "stdout",
       "text": [
        " g \", the following words yield a highest score:\n",
        "{'highjack': 28}\n",
        "Given a wrapletter of \""
       ]
      },
      {
       "output_type": "stream",
       "stream": "stdout",
       "text": [
        " h \", the following words yield a highest score:\n",
        "{'sovkhozy': 30}\n",
        "Given a wrapletter of \""
       ]
      },
      {
       "output_type": "stream",
       "stream": "stdout",
       "text": [
        " i \", the following words yield a highest score:\n",
        "{'muzjiks': 29}\n",
        "Given a wrapletter of \""
       ]
      },
      {
       "output_type": "stream",
       "stream": "stdout",
       "text": [
        " j \", the following words yield a highest score:\n",
        "{'muzjiks': 29}\n",
        "Given a wrapletter of \""
       ]
      },
      {
       "output_type": "stream",
       "stream": "stdout",
       "text": [
        " k \", the following words yield a highest score:\n",
        "{'kolkhozy': 31}\n",
        "Given a wrapletter of \""
       ]
      },
      {
       "output_type": "stream",
       "stream": "stdout",
       "text": [
        " l \", the following words yield a highest score:\n",
        "{'quadplex': 27, 'schmalzy': 27}\n",
        "Given a wrapletter of \""
       ]
      },
      {
       "output_type": "stream",
       "stream": "stdout",
       "text": [
        " m \", the following words yield a highest score:\n",
        "{'muzjiks': 29}\n",
        "Given a wrapletter of \""
       ]
      },
      {
       "output_type": "stream",
       "stream": "stdout",
       "text": [
        " n \", the following words yield a highest score:\n",
        "{'janizary': 27}\n",
        "Given a wrapletter of \""
       ]
      },
      {
       "output_type": "stream",
       "stream": "stdout",
       "text": [
        " o \", the following words yield a highest score:\n",
        "{'sovkhozy': 30}\n",
        "Given a wrapletter of \""
       ]
      },
      {
       "output_type": "stream",
       "stream": "stdout",
       "text": [
        " p \", the following words yield a highest score:\n",
        "{'oxazepam': 28}\n",
        "Given a wrapletter of \" q \", the following words yield a highest score:\n",
        "{'beziques': 28, 'mezquite': 28, 'mezquits': 28, 'caziques': 28}\n",
        "Given a wrapletter of \""
       ]
      },
      {
       "output_type": "stream",
       "stream": "stdout",
       "text": [
        " r \", the following words yield a highest score:\n",
        "{'quixotry': 27, 'jacquard': 27, 'jarovize': 27, 'janizary': 27}\n",
        "Given a wrapletter of \""
       ]
      },
      {
       "output_type": "stream",
       "stream": "stdout",
       "text": [
        " s \", the following words yield a highest score:\n",
        "{'sovkhozy': 30}\n",
        "Given a wrapletter of \""
       ]
      },
      {
       "output_type": "stream",
       "stream": "stdout",
       "text": [
        " t \", the following words yield a highest score:\n",
        "{'mezquite': 28, 'mezquits': 28}\n",
        "Given a wrapletter of \""
       ]
      },
      {
       "output_type": "stream",
       "stream": "stdout",
       "text": [
        " u \", the following words yield a highest score:\n",
        "{'muzjiks': 29}\n",
        "Given a wrapletter of \""
       ]
      },
      {
       "output_type": "stream",
       "stream": "stdout",
       "text": [
        " v \", the following words yield a highest score:\n",
        "{'sovkhozy': 30}\n",
        "Given a wrapletter of \""
       ]
      },
      {
       "output_type": "stream",
       "stream": "stdout",
       "text": [
        " w \", the following words yield a highest score:\n",
        "{'zwieback': 28}\n",
        "Given a wrapletter of \""
       ]
      },
      {
       "output_type": "stream",
       "stream": "stdout",
       "text": [
        " x \", the following words yield a highest score:\n",
        "{'oxazepam': 28, 'maximize': 28}\n",
        "Given a wrapletter of \""
       ]
      },
      {
       "output_type": "stream",
       "stream": "stdout",
       "text": [
        " y \", the following words yield a highest score:\n",
        "{'sovkhozy': 30}\n",
        "Given a wrapletter of \""
       ]
      },
      {
       "output_type": "stream",
       "stream": "stdout",
       "text": [
        " z \", the following words yield a highest score:\n",
        "{'jazzlike': 37}\n",
        "14.590204000473022\n"
       ]
      }
     ],
     "prompt_number": 3
    },
    {
     "cell_type": "code",
     "collapsed": false,
     "input": [
      "#blanks = 0 points\n",
      "#no backwards words\n"
     ],
     "language": "python",
     "metadata": {},
     "outputs": []
    }
   ],
   "metadata": {}
  }
 ]
}