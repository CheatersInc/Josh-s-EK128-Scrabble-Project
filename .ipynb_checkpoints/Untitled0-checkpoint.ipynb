{
 "metadata": {
  "name": "",
  "signature": "sha256:26264444ba0b63cc0cbf98903b705f4310dce21b6a832684380e8189e512a9db"
 },
 "nbformat": 3,
 "nbformat_minor": 0,
 "worksheets": []
}