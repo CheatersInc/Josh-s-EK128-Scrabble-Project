{
 "metadata": {
  "name": "",
  "signature": "sha256:cf5d15b6b5dc6107374541770fdfaf7a115ce8eb90660895ba77e21aa19c94a6"
 },
 "nbformat": 3,
 "nbformat_minor": 0,
 "worksheets": [
  {
   "cells": [
    {
     "cell_type": "code",
     "collapsed": false,
     "input": [
      "def test_bfl(wrapletter,word):\n",
      "    #determines number of characters left/up relative to wrapletter\n",
      "    d={}\n",
      "    basenum=0    \n",
      "    for i in word:\n",
      "        d[i]=basenum\n",
      "        basenum=basenum+1\n",
      "    return(d[wrapletter])\n",
      "\n",
      "def test_afl(wrapletter,word):\n",
      "    #determines number of characters right/down relative to wrapletter\n",
      "    L=list(word)\n",
      "    L.reverse()\n",
      "    basestr=''\n",
      "    for i in L:\n",
      "        basestr=basestr+i\n",
      "    return(test_bfl(wrapletter,basestr))\n",
      "\n",
      "def letter_placement(letterscoreplacement,wrapletter,word):\n",
      "    #determines what letter is in letterscoreplacement#\n",
      "    L=list(word)\n",
      "    afl=test_afl(wrapletter,word)\n",
      "    bfl=test_bfl(wrapletter,word)\n",
      "    if letterscoreplacement>0:\n",
      "        return(L[len(word)-afl-1-letterscoreplacement])\n",
      "    elif letterscoreplacement<0:\n",
      "        return(L[len(word)-bfl-1+letterscoreplacement])\n",
      "    else:\n",
      "        return(wrapletter)"
     ],
     "language": "python",
     "metadata": {},
     "outputs": [],
     "prompt_number": 136
    },
    {
     "cell_type": "code",
     "collapsed": false,
     "input": [
      "letter_placement(2,'l','abcdefghijkl')"
     ],
     "language": "python",
     "metadata": {},
     "outputs": [
      {
       "metadata": {},
       "output_type": "pyout",
       "prompt_number": 143,
       "text": [
        "'j'"
       ]
      }
     ],
     "prompt_number": 143
    },
    {
     "cell_type": "code",
     "collapsed": false,
     "input": [
      "def tot(*L):\n",
      "    basenum=0\n",
      "    for i in L:\n",
      "        basenum=basenum+i\n",
      "    return(basenum)\n",
      "\n",
      "tot(17,11,9,6,9,14,6,17,6,6,2)"
     ],
     "language": "python",
     "metadata": {},
     "outputs": [
      {
       "metadata": {},
       "output_type": "pyout",
       "prompt_number": 39,
       "text": [
        "103"
       ]
      }
     ],
     "prompt_number": 39
    },
    {
     "cell_type": "code",
     "collapsed": false,
     "input": [
      "tot(27, 15, 10, 6, 11, 16, 7, 51, 12, 6, 2)"
     ],
     "language": "python",
     "metadata": {},
     "outputs": [
      {
       "metadata": {},
       "output_type": "pyout",
       "prompt_number": 40,
       "text": [
        "163"
       ]
      }
     ],
     "prompt_number": 40
    },
    {
     "cell_type": "code",
     "collapsed": false,
     "input": [
      "tot(17, 13, 16, 12, 9, 12, 14, 17, 9, 9, 3, 3)"
     ],
     "language": "python",
     "metadata": {},
     "outputs": [
      {
       "output_type": "stream",
       "stream": "stdout",
       "text": [
        "134\n"
       ]
      }
     ],
     "prompt_number": 27
    },
    {
     "cell_type": "code",
     "collapsed": false,
     "input": [
      "tot(34, 28, 34, 24, 12, 39, 42, 51, 27, 10, 6, 6)"
     ],
     "language": "python",
     "metadata": {},
     "outputs": [
      {
       "output_type": "stream",
       "stream": "stdout",
       "text": [
        "313\n"
       ]
      }
     ],
     "prompt_number": 28
    },
    {
     "cell_type": "code",
     "collapsed": false,
     "input": [
      "tot(313,163)"
     ],
     "language": "python",
     "metadata": {},
     "outputs": [
      {
       "output_type": "stream",
       "stream": "stdout",
       "text": [
        "476\n"
       ]
      }
     ],
     "prompt_number": 29
    },
    {
     "cell_type": "code",
     "collapsed": false,
     "input": [
      "tot(103,313)"
     ],
     "language": "python",
     "metadata": {},
     "outputs": [
      {
       "output_type": "stream",
       "stream": "stdout",
       "text": [
        "416\n"
       ]
      }
     ],
     "prompt_number": 30
    },
    {
     "cell_type": "code",
     "collapsed": false,
     "input": [
      "49/97.09"
     ],
     "language": "python",
     "metadata": {},
     "outputs": [
      {
       "metadata": {},
       "output_type": "pyout",
       "prompt_number": 1,
       "text": [
        "0.5046863734679163"
       ]
      }
     ],
     "prompt_number": 1
    },
    {
     "cell_type": "code",
     "collapsed": false,
     "input": [],
     "language": "python",
     "metadata": {},
     "outputs": []
    }
   ],
   "metadata": {}
  }
 ]
}