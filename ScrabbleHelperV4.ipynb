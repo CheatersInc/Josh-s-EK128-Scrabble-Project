{
 "metadata": {
  "name": "",
  "signature": "sha256:ef3a0172ef83f4da32229f7cc5d704641cf570a9b854f5af31d61ae5a223e5ea"
 },
 "nbformat": 3,
 "nbformat_minor": 0,
 "worksheets": [
  {
   "cells": [
    {
     "cell_type": "code",
     "collapsed": false,
     "input": [
      "def test_bfl(wrapletter,word):\n",
      "    #determines number of characters left/up relative to wrapletter\n",
      "    #assumes capital letter indicates wrapletter in lowercase word and is in word\n",
      "    basenum=0\n",
      "    for i in word:\n",
      "        if i==wrapletter:\n",
      "            return(basenum)\n",
      "        else:\n",
      "            basenum=basenum+1\n",
      "\n",
      "def test_afl(wrapletter,word):\n",
      "    #determines number of characters right/down relative to wrapletter;\n",
      "    #assumes capital letter indicates wrapletter in lowercase word and is in word\n",
      "    basenum=0\n",
      "    for i in word[::-1]:\n",
      "        if i==wrapletter:\n",
      "            return(basenum)\n",
      "        else:\n",
      "            basenum=basenum+1\n",
      "\n",
      "def letter_placement(letterscoreplacement,wrapletter,word):\n",
      "    #determines what letter is in letterscoreplacement#\n",
      "    L,afl=list(word),test_afl(wrapletter,word)\n",
      "    return(L[len(word)-afl-1-letterscoreplacement])\n",
      "    \n",
      "def all_variants(wrapletter,word):\n",
      "    #indicates location of wrapletter in word with capital letter;\n",
      "    #i.e., given 't' and 'tattle', returns [Tattle,taTtle,tatTle]\n",
      "    L=[]\n",
      "    for i in range(len(word)):\n",
      "        if(word[i]==wrapletter):\n",
      "            L.append(word[0:i].lower()+word[i].upper()+word[i+1::].lower())\n",
      "    return(L)\n",
      "\n",
      "def ScrabbleHelperBaseF(wrapletter,letters,beforewrapletter=15,afterwrapletter=15,wordscoremod=[1],wordscoreplacement=[0],letterscoremod=[1],letterscoreplacement=[0]):\n",
      "    #Is base function for ScrabbleHelper\n",
      "    #OSPD is the official scrabble word list#\n",
      "    #afterletter and beforeletter are int referencing spaces available\n",
      "    #on board relative to wrapletter (up/left for before, down/right for after)#\n",
      "    #wordscoremod is the Word Score Modifier (Triple or Double), if it exists#\n",
      "    #wordscoreplacement is placement of mod tile relative to wrapletter (positive is up/left;\n",
      "    #negative is down/right) expressed as int number of spaces#\n",
      "    #letterscoremod/placement works same as with word, but only for a particular letter,\n",
      "    #and LSP/LSM is a list, in case of multiple LSM spaces#\n",
      "    #Blank indicates presense of blank tile in letters.  Currently assumes that blanks still have a points value#\n",
      "    scrabdict,WLU={'a':1,'b':3,'c':3,'d':2,'e':1,'f':4,'g':2,'h':4,'i':1,'j':8,'k':5,'l':1,'m':3,'n':1,'o':1,'p':3,\n",
      "               'q':10,'r':1,'s':1,'t':1,'u':1,'v':4,'w':4,'x':8,'y':4,'z':10,'A':1,'B':3,'C':3,'D':2,'E':1,'F':4,\n",
      "               'G':2,'H':4,'I':1,'J':8,'K':5,'L':1,'M':3,'N':1,'O':1,'P':3,'Q':10,'R':1,'S':1,'T':1,'U':1,\n",
      "               'V':4,'W':4,'X':8,'Y':4,'Z':10,'_':0},wrapletter.upper()\n",
      "    sfile,hitlistd,wordlistd=open('ospd.txt'),{},{}\n",
      "    lettersL=list(letters+WLU)\n",
      "    for line in sfile:\n",
      "        baseword=line.strip()\n",
      "        #checks wrapletter in word and word length#\n",
      "        if wrapletter in baseword and len(baseword)<=len(lettersL):\n",
      "            #checks each variant of the word depending on wrapletter placement#\n",
      "            for i in all_variants(wrapletter,baseword):\n",
      "                #checks AFL/BFL#\n",
      "                if test_bfl(WLU,i)<=beforewrapletter and test_afl(WLU,i)<=afterwrapletter:\n",
      "                    for char in i:\n",
      "                        #checks all char in word are also in lettersL + number of chars <= number of chars \n",
      "                        #in lettersL; if not, adds to hitlist for later termination#\n",
      "                        if char in lettersL and lettersL.count(char)>=list(i).count(char):\n",
      "                            pass\n",
      "                        else:\n",
      "                            basenum=0\n",
      "                            for let in i:\n",
      "                                basenum=basenum+scrabdict[let]\n",
      "                            hitlistd[i]=basenum\n",
      "                            break\n",
      "                        #creates score associated with word in dictionary#\n",
      "                        basenum=0\n",
      "                        for let in i:\n",
      "                            basenum=basenum+scrabdict[let]\n",
      "                    #Double/Triple Letter Modifier#\n",
      "                    if len(letterscoreplacement)>1:\n",
      "                        for num in range(len(letterscoreplacement)):\n",
      "                            if letterscoreplacement[num]==0:\n",
      "                                basenum=basenum+scrabdict[WLU]*(letterscoremod[num]-1)\n",
      "                            #test that word lands on letter modifier\n",
      "                            elif letterscoreplacement[num]>0 and letterscoreplacement[num]>test_bfl(WLU,i):\n",
      "                                pass\n",
      "                            elif letterscoreplacement[num]<0 and letterscoreplacement[num]*-1>test_afl(WLU,i):\n",
      "                                pass\n",
      "                            else:\n",
      "                                basenum=basenum+scrabdict[letter_placement(letterscoreplacement[num],WLU,i)]*(letterscoremod[num]-1)\n",
      "                    elif len(letterscoreplacement)==1:\n",
      "                        if letterscoreplacement[0]==0:\n",
      "                            basenum=basenum+scrabdict[WLU]*(letterscoremod[0]-1)\n",
      "                        #test that word lands on letter modifier\n",
      "                        elif letterscoreplacement[0]>0 and letterscoreplacement[0]>test_bfl(WLU,i):\n",
      "                            pass\n",
      "                        elif letterscoreplacement[0]<0 and letterscoreplacement[0]*-1>test_afl(WLU,i):\n",
      "                            pass\n",
      "                        else:\n",
      "                            basenum=basenum+scrabdict[letter_placement(letterscoreplacement[0],WLU,i)]*(letterscoremod[0]-1)\n",
      "                    else:\n",
      "                        pass\n",
      "                    #Double/Triple/Quadruple/6tuple/9tuple word modifier#\n",
      "                    for num in range(len(wordscoreplacement)):\n",
      "                        if wordscoreplacement[num]>=0 and test_bfl(WLU,i)>=wordscoreplacement[num]:\n",
      "                            basenum=basenum*wordscoremod[num]\n",
      "                        elif wordscoreplacement[num]<=0 and test_afl(WLU,i)<=(wordscoreplacement[num]*-1):\n",
      "                            basenum=basenum*wordscoremod[num]\n",
      "                        else:\n",
      "                            pass\n",
      "                    #50 point bonus if all letters used#\n",
      "                    if len(i)==len(lettersL) and list(sorted(i))==sorted(lettersL) and len(i)==8:\n",
      "                        basenum=basenum+50\n",
      "                    #word:score#\n",
      "                    wordlistd[i]=basenum\n",
      "                else:\n",
      "                    pass\n",
      "        else:\n",
      "            pass\n",
      "    #termination script#\n",
      "    for word in hitlistd:\n",
      "        if word in wordlistd:\n",
      "            del wordlistd[word]\n",
      "    sfile.close()\n",
      "    #determining best word; returns result in dictionary with key=int score#\n",
      "    topplay,topscore=[],0\n",
      "    for word in wordlistd.keys():\n",
      "        if wordlistd[word]==topscore:\n",
      "            topplay.append(word)\n",
      "        elif wordlistd[word]<topscore:\n",
      "            pass\n",
      "        else:\n",
      "            topplay=[]\n",
      "            topscore=wordlistd[word]\n",
      "            topplay.append(word)\n",
      "    return((topplay,topscore))\n",
      "\n",
      "def ScrabbleHelperV4(wrapletters,letters,BWL=[15],AWL=[15],WSM=[[1]],WSP=[[0]],LSM=[[1]],LSP=[[0]],blank=False):\n",
      "    #creates for loop to run SHBF with multiple wrapletters and associated LSPs/LSMs/WSMs/WSPs\n",
      "    #and picks out best word given wrapletters#\n",
      "    #note that LSP/LSM/WSP/WSM must be entered as multiple lists to go with multiple wrapletters#\n",
      "    #arconyms refer to inputs of SHBF#\n",
      "    topwordsd,bestplay,bestscore,all_letters={},[],0,'abcdefghijklmnopqrstuvwxyz'\n",
      "    #creates dictionary containing words and their associated scores#\n",
      "    if blank is False:\n",
      "        for i in range(len(wrapletters)):\n",
      "            topwordsd[tuple(ScrabbleHelperBaseF(wrapletters[i],letters,BWL[i],AWL[i],WSM[i],WSP[i],LSM[i],LSP[i])[0])]=ScrabbleHelperBaseF(wrapletters[i],letters,BWL[i],AWL[i],WSM[i],WSP[i],LSM[i],LSP[i])[1]\n",
      "    else:\n",
      "        for i in all_letters:\n",
      "            lettersB=letters+i\n",
      "            for i in range(len(wrapletters)):\n",
      "                topwordsd[tuple(ScrabbleHelperBaseF(wrapletters[i],lettersB,BWL[i],AWL[i],WSM[i],WSP[i],LSM[i],LSP[i])[0])]=ScrabbleHelperBaseF(wrapletters[i],lettersB,BWL[i],AWL[i],WSM[i],WSP[i],LSM[i],LSP[i])[1]\n",
      "            lettersB=''\n",
      "    #looks through aforementioned dictionary for best word based on score#\n",
      "    for word in topwordsd.keys():\n",
      "        if topwordsd[word]==bestscore:\n",
      "            bestplay.append(word)\n",
      "        elif topwordsd[word]<bestscore:\n",
      "            pass\n",
      "        else:\n",
      "            bestplay=[]\n",
      "            bestscore=topwordsd[word]\n",
      "            bestplay.append(word)\n",
      "    bestplay.append(bestscore)\n",
      "    bestplay.reverse()\n",
      "    return(bestplay)"
     ],
     "language": "python",
     "metadata": {},
     "outputs": [],
     "prompt_number": 117
    },
    {
     "cell_type": "code",
     "collapsed": false,
     "input": [
      "import time\n",
      "TL=0\n",
      "n=10\n",
      "for number in range(n):\n",
      "    x=time.time()\n",
      "    print(ScrabbleHelperV4('a','hfibegyt'))\n",
      "    y=time.time()\n",
      "    print(y-x)\n",
      "    TL=TL+(y-x)\n",
      "print('Average time is:',TL/n,'seconds')"
     ],
     "language": "python",
     "metadata": {},
     "outputs": [
      {
       "output_type": "stream",
       "stream": "stdout",
       "text": [
        "[15, ('beAtify',)]\n",
        "0.6176340579986572\n",
        "[15, ('beAtify',)]"
       ]
      },
      {
       "output_type": "stream",
       "stream": "stdout",
       "text": [
        "\n",
        "0.5858700275421143\n",
        "[15, ('beAtify',)]"
       ]
      },
      {
       "output_type": "stream",
       "stream": "stdout",
       "text": [
        "\n",
        "0.5708279609680176\n",
        "[15, ('beAtify',)]"
       ]
      },
      {
       "output_type": "stream",
       "stream": "stdout",
       "text": [
        "\n",
        "0.5776810646057129\n",
        "[15, ('beAtify',)]"
       ]
      },
      {
       "output_type": "stream",
       "stream": "stdout",
       "text": [
        "\n",
        "0.5680551528930664\n",
        "[15, ('beAtify',)]"
       ]
      },
      {
       "output_type": "stream",
       "stream": "stdout",
       "text": [
        "\n",
        "0.5795869827270508\n",
        "[15, ('beAtify',)]"
       ]
      },
      {
       "output_type": "stream",
       "stream": "stdout",
       "text": [
        "\n",
        "0.5698690414428711\n",
        "[15, ('beAtify',)]"
       ]
      },
      {
       "output_type": "stream",
       "stream": "stdout",
       "text": [
        "\n",
        "0.5713779926300049\n",
        "[15, ('beAtify',)]"
       ]
      },
      {
       "output_type": "stream",
       "stream": "stdout",
       "text": [
        "\n",
        "0.5685470104217529\n",
        "[15, ('beAtify',)]"
       ]
      },
      {
       "output_type": "stream",
       "stream": "stdout",
       "text": [
        "\n",
        "0.5716660022735596\n",
        "Average time is: 0.5781115293502808 seconds\n"
       ]
      }
     ],
     "prompt_number": 127
    },
    {
     "cell_type": "code",
     "collapsed": false,
     "input": [],
     "language": "python",
     "metadata": {},
     "outputs": []
    }
   ],
   "metadata": {}
  }
 ]
}