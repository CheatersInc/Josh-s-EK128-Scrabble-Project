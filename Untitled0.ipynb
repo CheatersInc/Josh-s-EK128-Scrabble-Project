{
 "metadata": {
  "name": "",
  "signature": "sha256:ac696261fe13eb95cd17e22595dc11feccc7c6595cdb471747362fb465dfae6e"
 },
 "nbformat": 3,
 "nbformat_minor": 0,
 "worksheets": [
  {
   "cells": [
    {
     "cell_type": "code",
     "collapsed": false,
     "input": [
      "#assume wrapletter in word\n",
      "def test_afl(wrapletter,word):\n",
      "    d={}\n",
      "    basenum=0\n",
      "    for i in word:\n",
      "        if i in d.keys():\n",
      "            pass\n",
      "        else:\n",
      "            d[i]=basenum\n",
      "            basenum=basenum+1\n",
      "        print(d)\n",
      "    return(basenum-d[wrapletter])\n",
      "    \n",
      "def test_bfl(wrapletter,word):\n",
      "    d={}\n",
      "    basenum=0\n",
      "    for i in word:\n",
      "        if i in d.keys():\n",
      "            pass\n",
      "        else:\n",
      "            d[i]=basenum\n",
      "            basenum=basenum+1\n",
      "        print(d)\n",
      "    return(d[wrapletter])\n",
      "\n",
      "\n",
      "print(test_afl('l','all'))"
     ],
     "language": "python",
     "metadata": {},
     "outputs": [
      {
       "output_type": "stream",
       "stream": "stdout",
       "text": [
        "{'a': 0}\n",
        "{'a': 0, 'l': 1}\n",
        "{'a': 0, 'l': 1}\n",
        "1\n"
       ]
      }
     ],
     "prompt_number": 22
    },
    {
     "cell_type": "code",
     "collapsed": false,
     "input": [
      "def tot(*L):\n",
      "    basenum=0\n",
      "    for i in L:\n",
      "        basenum=basenum+i\n",
      "    return(print(basenum))\n",
      "\n",
      "tot(17,11,9,6,9,14,6,17,6,6,2)"
     ],
     "language": "python",
     "metadata": {},
     "outputs": [
      {
       "output_type": "stream",
       "stream": "stdout",
       "text": [
        "103\n"
       ]
      }
     ],
     "prompt_number": 24
    },
    {
     "cell_type": "code",
     "collapsed": false,
     "input": [
      "tot(27, 15, 10, 6, 11, 16, 7, 51, 12, 6, 2)"
     ],
     "language": "python",
     "metadata": {},
     "outputs": [
      {
       "output_type": "stream",
       "stream": "stdout",
       "text": [
        "163\n"
       ]
      }
     ],
     "prompt_number": 25
    },
    {
     "cell_type": "code",
     "collapsed": false,
     "input": [
      "tot(17, 13, 16, 12, 9, 12, 14, 17, 9, 9, 3, 3)"
     ],
     "language": "python",
     "metadata": {},
     "outputs": [
      {
       "output_type": "stream",
       "stream": "stdout",
       "text": [
        "134\n"
       ]
      }
     ],
     "prompt_number": 27
    },
    {
     "cell_type": "code",
     "collapsed": false,
     "input": [
      "tot(34, 28, 34, 24, 12, 39, 42, 51, 27, 10, 6, 6)"
     ],
     "language": "python",
     "metadata": {},
     "outputs": [
      {
       "output_type": "stream",
       "stream": "stdout",
       "text": [
        "313\n"
       ]
      }
     ],
     "prompt_number": 28
    },
    {
     "cell_type": "code",
     "collapsed": false,
     "input": [
      "tot(313,163)"
     ],
     "language": "python",
     "metadata": {},
     "outputs": [
      {
       "output_type": "stream",
       "stream": "stdout",
       "text": [
        "476\n"
       ]
      }
     ],
     "prompt_number": 29
    },
    {
     "cell_type": "code",
     "collapsed": false,
     "input": [
      "tot(103,313)"
     ],
     "language": "python",
     "metadata": {},
     "outputs": [
      {
       "output_type": "stream",
       "stream": "stdout",
       "text": [
        "416\n"
       ]
      }
     ],
     "prompt_number": 30
    },
    {
     "cell_type": "code",
     "collapsed": false,
     "input": [],
     "language": "python",
     "metadata": {},
     "outputs": []
    }
   ],
   "metadata": {}
  }
 ]
}