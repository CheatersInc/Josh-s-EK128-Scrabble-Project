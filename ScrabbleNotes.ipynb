{
 "metadata": {
  "name": "",
  "signature": "sha256:cc9aefa1ad76adc6da5e4c1aa7e7c7df3fcf33aa9102812868deda9949a51790"
 },
 "nbformat": 3,
 "nbformat_minor": 0,
 "worksheets": [
  {
   "cells": [
    {
     "cell_type": "code",
     "collapsed": false,
     "input": [
      "def HelpIDoNotKnowWords(wrapletter,letters):\n",
      "    #wrap letter indicates the letter you want to put a word around\n",
      "    sfile=open('ospd.txt')\n",
      "    letters=list(letters+wrapletter)\n",
      "    scrabdict={'a':1,'b':3,'c':3,'d':2,'e':1,'f':4,'g':2,'h':4,'i':1,'j':8,'k':5,'l':1,'m':3,'n':1,'o':1,'p':3,'q':10,'r':1,'s':1,'t':1,'u':1,'v':4,'w':4,'x':8,'y':4,'z':10}\n",
      "    wordlist=[]\n",
      "    wordlistd={}\n",
      "    hitlist=[]\n",
      "    for line in sfile:\n",
      "        wordlist.append(line.strip())\n",
      "    sfile.close()\n",
      "    for word in wordlist:\n",
      "        Lword=list(word)\n",
      "        for char in Lword:\n",
      "            if char in letters and wrapletter in word:\n",
      "                if Lword.count(char)<=letters.count(char) and len(word)<11:\n",
      "                    pass\n",
      "                else:\n",
      "                    hitlist.append(word)\n",
      "                    break\n",
      "            else:\n",
      "                hitlist.append(word)\n",
      "                break\n",
      "    for word in hitlist:\n",
      "        wordlist.remove(word)\n",
      "    for i in wordlist:\n",
      "        basenum=0\n",
      "        for let in i:\n",
      "            basenum=basenum+scrabdict[let]\n",
      "        wordlistd[i]=basenum\n",
      "    bestplay=[]\n",
      "    bestscore=0\n",
      "    for word in wordlistd.keys():\n",
      "        if int(wordlistd[word])==bestscore:\n",
      "            bestplay.append(word)\n",
      "        elif int(wordlistd[word])<bestscore:\n",
      "            pass\n",
      "        else:\n",
      "            bestplay=[]\n",
      "            bestplay.append(word)\n",
      "            bestscore=wordlistd[word]\n",
      "    print('The following words yield a highest score of:',bestscore)\n",
      "    return(bestplay)"
     ],
     "language": "python",
     "metadata": {},
     "outputs": [],
     "prompt_number": 8
    },
    {
     "cell_type": "code",
     "collapsed": false,
     "input": [
      "import time\n",
      "x=time.time()\n",
      "stuff='ab'\n",
      "for i in stuff:\n",
      "    print(HelpIDoNotKnowWords(i,'eeeeeeeeeeeeaaaaaaaaaiiiiiiiiioooooooonnnnnnrrrrrrttttttllllssssuuuuddddgggbbccmmppffhhvvwwyykjxqz'))\n",
      "y=time.time()\n",
      "print(y-x)"
     ],
     "language": "python",
     "metadata": {},
     "outputs": [
      {
       "output_type": "stream",
       "stream": "stdout",
       "text": [
        "The following words yield a highest score of: 28\n",
        "['maximize', 'oxazepam', 'zwieback', 'caziques', 'highjack']\n",
        "The following words yield a highest score of:"
       ]
      },
      {
       "output_type": "stream",
       "stream": "stdout",
       "text": [
        " 28\n",
        "['zwieback', 'beziques']\n",
        "26.569649934768677\n"
       ]
      }
     ],
     "prompt_number": 9
    },
    {
     "cell_type": "code",
     "collapsed": false,
     "input": [],
     "language": "python",
     "metadata": {},
     "outputs": []
    }
   ],
   "metadata": {}
  }
 ]
}